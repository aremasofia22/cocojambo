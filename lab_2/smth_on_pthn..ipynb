{
 "cells": [
  {
   "cell_type": "code",
   "execution_count": 19,
   "metadata": {},
   "outputs": [
    {
     "name": "stdout",
     "output_type": "stream",
     "text": [
      "Числова зміна:  1\n",
      "Рядок з числа: 42\n",
      "Список:  ['a', '434', 'Слово', 4.4]\n",
      "{'Петро': 'Щур', 'Мамині': 'світлиці', 'Рік': 42}\n"
     ]
    }
   ],
   "source": [
    "a = \"змінна з текстом\"\n",
    "b = 1 # числова Змінна\n",
    "print(\"Числова зміна: \", b)\n",
    "\n",
    "number = 42\n",
    "number_str = str(number)\n",
    "print(\"Рядок з числа:\", number_str) #str\n",
    "\n",
    "с = [\"a\", \"434\", \"Слово\", 4.4] # List\n",
    "print(\"Список: \",с)\n",
    "\n",
    "d = {\"Петро\": \"Щур\", \"Мамині\": \"світлиці\", \"Рік\": number} # Dict\n",
    "print(d)\n",
    "\n",
    "e = (\"a\", a) # Tuple\n",
    "f = {\"ss\", a} # Set\n",
    "\n"
   ]
  },
  {
   "cell_type": "code",
   "execution_count": 20,
   "metadata": {},
   "outputs": [
    {
     "name": "stdout",
     "output_type": "stream",
     "text": [
      "Результат додавання:  12\n",
      "Число 10 парне?  True\n",
      "Максимальне з трьох чисел (3, 33, 333):  333\n"
     ]
    }
   ],
   "source": [
    "#Functionals\n",
    "# Функція для додавання двох чисел\n",
    "def SUMmer(a, b):\n",
    "    return a + b\n",
    "\n",
    "# Функція для перевірки, чи є число парним\n",
    "def pair_of_socks(n):\n",
    "    return n % 2 == 0\n",
    "\n",
    "# Функція для знаходження максимальної з трьох чисел\n",
    "def max_of_max(x, y, z):\n",
    "    return max(x, y, z)\n",
    "\n",
    "# Виклик функцій та вивід результатів\n",
    "result_SUMmer = SUMmer(6, 6)\n",
    "result_pair_of_socks = pair_of_socks(10)\n",
    "result_max = max_of_max(3, 33, 333)\n",
    "\n",
    "print(\"Результат додавання: \", result_SUMmer)\n",
    "print(\"Число 10 парне? \", result_pair_of_socks)\n",
    "print(\"Максимальне з трьох чисел (3, 33, 333): \", result_max)\n"
   ]
  },
  {
   "cell_type": "code",
   "execution_count": 2,
   "metadata": {},
   "outputs": [
    {
     "name": "stdout",
     "output_type": "stream",
     "text": [
      "Буква: в\n",
      "Буква: о\n",
      "Буква: р\n",
      "Буква: о\n",
      "Буква: ж\n",
      "Буква: к\n",
      "Буква: а\n",
      "Факторіал числа 5 дорівнює 120\n",
      "Сума чисел від 1 до 5: 15\n"
     ]
    }
   ],
   "source": [
    "# Loop(цикл): \n",
    "#1 Перебір списку чисел\n",
    "letters = [\"в\", \"о\", \"р\", \"о\", \"ж\", \"к\", \"а\"]\n",
    "\n",
    "for letter in letters:\n",
    "    print(f\"Буква: {letter}\")\n",
    "\n",
    "#2 Функція для обчислення факторіалу + цикл\n",
    "def factorial(n):\n",
    "    result = 1\n",
    "    for i in range(1, n + 1):\n",
    "        result *= i  # Множимо result на i\n",
    "    return result\n",
    "\n",
    "# Виклик функції\n",
    "number = 5\n",
    "fact = factorial(number)\n",
    "\n",
    "print(f\"Факторіал числа {number} дорівнює {fact}\")\n",
    "\n",
    "#3 Обчислення суми чисел від 1 до 5\n",
    "total_sum = 0\n",
    "\n",
    "for i in range(1, 6):  # Перебір чисел від 1 до 5\n",
    "    total_sum += i     # Додавання кожного числа до total_sum\n",
    "\n",
    "print(f\"Сума чисел від 1 до 5: {total_sum}\")\n"
   ]
  },
  {
   "cell_type": "code",
   "execution_count": 7,
   "metadata": {},
   "outputs": [
    {
     "name": "stdout",
     "output_type": "stream",
     "text": [
      "Значить А=True\n",
      "Значить B=True\n",
      "Пора року: Весна\n"
     ]
    }
   ],
   "source": [
    "#Розгалуження:\n",
    "#1\n",
    "A = True\n",
    "print(\"Значить А=True\" if A else \"Значить А=False\")\n",
    "\n",
    "#2\n",
    "B = False\n",
    "print(\"Значить B=False\" if B else \"Значить B=True\" )\n",
    "\n",
    "#3\n",
    "month = input(\"Введіть місяць: \").lower()\n",
    "\n",
    "if month in ['грудень', 'січень', 'лютий']:\n",
    "    season = \"Зима\"\n",
    "elif month in ['березень', 'квітень', 'травень']:\n",
    "    season = \"Весна\"\n",
    "elif month in ['червень', 'липень', 'серпень']:\n",
    "    season = \"Літо\"\n",
    "elif month in ['вересень', 'жовтень', 'листопад']:\n",
    "    season = \"Осінь\"\n",
    "else:\n",
    "    season = \"Невірний місяць\"\n",
    "\n",
    "print(f\"Пора року: {season}\")\n"
   ]
  },
  {
   "cell_type": "code",
   "execution_count": 12,
   "metadata": {},
   "outputs": [
    {
     "name": "stdout",
     "output_type": "stream",
     "text": [
      "division by zero\n",
      "А вот воно що!\n",
      "Помилка: Ділення на нуль!\n",
      "Дякуємо за використання програми!\n"
     ]
    }
   ],
   "source": [
    "#1\n",
    "A = 0\n",
    "try:\n",
    "    print(\"Що буде якщо\", 10/A, \"?\")\n",
    "except Exception as e:\n",
    "    print(e)\n",
    "finally:\n",
    "    print(\"А вот воно що!\")\n",
    "#2\n",
    "try:\n",
    "    numerator = float(input(\"Введіть чисельник: \"))\n",
    "    denominator = float(input(\"Введіть знаменник: \"))\n",
    "    result = numerator / denominator\n",
    "except ZeroDivisionError:\n",
    "    print(\"Помилка: Ділення на нуль!\")\n",
    "except ValueError:\n",
    "    print(\"Помилка: Введіть дійсні числа!\")\n",
    "finally:\n",
    "    print(\"Дякуємо за використання програми!\")\n"
   ]
  },
  {
   "cell_type": "code",
   "execution_count": 15,
   "metadata": {},
   "outputs": [
    {
     "name": "stdout",
     "output_type": "stream",
     "text": [
      "Дуже смішний анекдот\n",
      "Не розумію…\n",
      "Чому штани в яких краще вього лежати на дивані називаються спортивними???\n",
      "Який час такі і жарти)\n"
     ]
    }
   ],
   "source": [
    "# Контекст-менеджер with\n",
    "# Запис даних у файл\n",
    "with open('example.txt', 'w') as file:\n",
    "    file.write(\"Дуже смішний анекдот\\n\"\n",
    "    \"Не розумію…\\n\"\n",
    "    \"Чому штани в яких краще вього лежати на дивані називаються спортивними???\\n\")\n",
    "    file.write(\"Який час такі і жарти)\")\n",
    "\n",
    "# Читання даних з файлу\n",
    "with open('example.txt', 'r') as file:\n",
    "    content = file.read()\n",
    "    print(content)\n"
   ]
  },
  {
   "cell_type": "code",
   "execution_count": 20,
   "metadata": {},
   "outputs": [
    {
     "name": "stdout",
     "output_type": "stream",
     "text": [
      "Лямбда-функції використовуються для створення невеликих функцій без необхідності оголошувати їх за допомогою def\n",
      "Квадрат числа 5: 25\n"
     ]
    }
   ],
   "source": [
    "#Лямбди\n",
    "print(\"Лямбда-функції використовуються для створення невеликих функцій без необхідності оголошувати їх за допомогою def\")\n",
    "\n",
    "# Лямбда-функція для обчислення квадрата\n",
    "square = lambda x: x ** 2\n",
    "\n",
    "# Використання лямбда-функції\n",
    "result = square(5)\n",
    "print(f\"Квадрат числа 5: {result}\")"
   ]
  },
  {
   "cell_type": "code",
   "execution_count": 21,
   "metadata": {},
   "outputs": [
    {
     "name": "stdout",
     "output_type": "stream",
     "text": [
      "Ім'я: Ноунейм, Вік: 25, Висота: 1.65, Студент: True\n",
      "Квадрат числа 1: 1\n",
      "Квадрат числа 2: 4\n",
      "Квадрат числа 3: 9\n",
      "Квадрат числа 4: 16\n",
      "Квадрат числа 5: 25\n",
      "Фрукт: яблуко\n",
      "Фрукт: банан\n",
      "Фрукт: апельсин\n",
      "Фрукт: киві\n"
     ]
    }
   ],
   "source": [
    "#Приклади ChatGPT\n",
    "# Оголошення змінних\n",
    "name = \"Ноунейм\"\n",
    "age = 25\n",
    "height = 1.65\n",
    "is_student = True\n",
    "\n",
    "# Вивід змінних\n",
    "print(f\"Ім'я: {name}, Вік: {age}, Висота: {height}, Студент: {is_student}\")\n",
    "\n",
    "# Цикл для виводу квадратів чисел від 1 до 5\n",
    "for i in range(1, 6):\n",
    "    print(f\"Квадрат числа {i}: {i ** 2}\")\n",
    "\n",
    "# Оголошення списку та його обробка\n",
    "fruits = [\"яблуко\", \"банан\", \"апельсин\"]\n",
    "\n",
    "# Додавання елемента\n",
    "fruits.append(\"киві\")\n",
    "\n",
    "# Вивід списку\n",
    "for fruit in fruits:\n",
    "    print(f\"Фрукт: {fruit}\")"
   ]
  }
 ],
 "metadata": {
  "kernelspec": {
   "display_name": "Python 3.12.6 64-bit",
   "language": "python",
   "name": "python3"
  },
  "language_info": {
   "codemirror_mode": {
    "name": "ipython",
    "version": 3
   },
   "file_extension": ".py",
   "mimetype": "text/x-python",
   "name": "python",
   "nbconvert_exporter": "python",
   "pygments_lexer": "ipython3",
   "version": "3.12.6"
  },
  "orig_nbformat": 4,
  "vscode": {
   "interpreter": {
    "hash": "aee8b7b246df8f9039afb4144a1f6fd8d2ca17a180786b69acc140d282b71a49"
   }
  }
 },
 "nbformat": 4,
 "nbformat_minor": 2
}
