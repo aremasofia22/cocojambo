{
 "cells": [
  {
   "cell_type": "markdown",
   "metadata": {},
   "source": [
    "# Звіт до роботи\n",
    "## Тема: _Практичне застосування чисельних даних_\n",
    "### Мета роботи: _застосувати практично чисельні дані_\n",
    "\n",
    "---\n",
    "### Виконання роботи"
   ]
  },
  {
   "cell_type": "markdown",
   "metadata": {},
   "source": [
    "## Визначення однорідного масиву"
   ]
  },
  {
   "cell_type": "code",
   "execution_count": 2,
   "metadata": {},
   "outputs": [
    {
     "name": "stdout",
     "output_type": "stream",
     "text": [
      "Масив A (тип int8) має вигляд:\n",
      "array([[ 3,  8,  9],\n",
      "       [ 1, -7,  0],\n",
      "       [ 4, 12,  4]], dtype=int8)\n",
      "Масив B (тип float16) має вигляд:\n",
      "array([[ 3.4,  8.7,  9.9],\n",
      "       [ 1.1, -7.8, -0.7],\n",
      "       [ 4.1, 12.3,  4.8]], dtype=float16)\n",
      "\n",
      ">>>>> Згадуючи ООП, що робить функція repr? \n",
      "\n",
      "Пояснення: Функція repr() повертає рядок, що є 'офіційною' або детальною репрезентацією об'єкта.\n",
      "Для масивів NumPy це зазвичай є вигляд масиву з його елементами, типом даних і розмірами.\n",
      "\n",
      ">>>>> У чому різниця між масивами A i B? \n",
      "\n",
      "Пояснення: Масив A має тип даних int8 (цілі числа), тому всі значення округлюються до цілих чисел.\n",
      "Масив B має тип float16 (плаваюча кома), тому він зберігає дробові числа з меншою точністю, але з більшою гнучкістю для роботи з такими числами.\n"
     ]
    }
   ],
   "source": [
    "def homework(message):\n",
    "    print(\"\\n>>>>>\", message, \"\\n\")\n",
    "\n",
    "import numpy as np\n",
    "\n",
    "# Список з кількома підсписками (матриця)\n",
    "lst = [ [3.4, 8.7, 9.9], \n",
    "        [1.1, -7.8, -0.7],\n",
    "        [4.1, 12.3, 4.8] ]\n",
    "\n",
    "# Створення масиву з типом int8\n",
    "A = np.array(lst, dtype=np.int8)\n",
    "print(f\"Масив A (тип int8) має вигляд:\\n{repr(A)}\")\n",
    "# Пояснення: Масив A був створений з цілими числами, тип яких обмежений до 8 біт (від -128 до 127).\n",
    "# Значення з плаваючою комою округлюються до найближчого цілого числа.\n",
    "\n",
    "# Створення масиву з типом float16\n",
    "B = np.array(lst, dtype=np.float16)\n",
    "print(f\"Масив B (тип float16) має вигляд:\\n{repr(B)}\")\n",
    "# Пояснення: Масив B був створений з плаваючою комою, зберігаючи більше точності для дробових частин.\n",
    "# Значення округлюються до 16 біт.\n",
    "\n",
    "homework(\"Згадуючи ООП, що робить функція repr?\")\n",
    "print(\"Пояснення: Функція repr() повертає рядок, що є 'офіційною' або детальною репрезентацією об'єкта.\")\n",
    "print(\"Для масивів NumPy це зазвичай є вигляд масиву з його елементами, типом даних і розмірами.\")\n",
    "\n",
    "homework(\"У чому різниця між масивами A i B?\")\n",
    "print(\"Пояснення: Масив A має тип даних int8 (цілі числа), тому всі значення округлюються до цілих чисел.\")\n",
    "print(\"Масив B має тип float16 (плаваюча кома), тому він зберігає дробові числа з меншою точністю, але з більшою гнучкістю для роботи з такими числами.\")\n"
   ]
  },
  {
   "cell_type": "markdown",
   "metadata": {},
   "source": [
    "## Задаємо свій тип даних"
   ]
  },
  {
   "cell_type": "code",
   "execution_count": 3,
   "metadata": {},
   "outputs": [
    {
     "name": "stdout",
     "output_type": "stream",
     "text": [
      "Отриманий масив має вигляд:\n",
      "[('Sofia', 5) ('Maks', 4) ('Noname', 0)]\n",
      "Доступитись до певної колонки тепер можна за її іменем: [5 4 0]\n",
      "\n",
      ">>>>> Всі імена в масиві: ['Sofia' 'Maks' 'Noname'] \n",
      "\n",
      "\n",
      ">>>>> Як вивести всі імена присутні в даному масиві? \n",
      "\n",
      "Пояснення: Для того, щоб вивести всі імена, достатньо звернутись до колонки 'name' масиву C.\n",
      "Оскільки dtype масиву містить поле 'name', можна просто використовувати вираз C['name'] для доступу до всіх імен.\n"
     ]
    }
   ],
   "source": [
    "def homework(message):\n",
    "    print(\"\\n>>>>>\", message, \"\\n\")\n",
    "\n",
    "import numpy as np\n",
    "\n",
    "# Створення dtype з іменами та оцінками\n",
    "dt = np.dtype([('name', 'U20'), ('mark', np.int8)])  # 'U20' — це Unicode строка довжиною до 20 символів\n",
    "arr = [\n",
    "    (\"Sofia\", 5), \n",
    "    (\"Maks\", 4),\n",
    "    (\"Noname\", 0)\n",
    "]\n",
    "C = np.array(arr, dtype=dt)\n",
    "\n",
    "# Виведення масиву\n",
    "print(f\"Отриманий масив має вигляд:\\n{C}\")\n",
    "# Доступ до колонки 'mark'\n",
    "print(f\"Доступитись до певної колонки тепер можна за її іменем: {C['mark']}\")\n",
    "\n",
    "# Виведення всіх імен\n",
    "homework(f\"Всі імена в масиві: {C['name']}\")  # Виведення всіх імен\n",
    "\n",
    "homework(\"Як вивести всі імена присутні в даному масиві?\")\n",
    "# Пояснення: Для того, щоб вивести всі імена, достатньо звернутись до колонки 'name' масиву C.\n",
    "# Оскільки dtype масиву містить поле 'name', можна просто використовувати вираз C['name'] для доступу до всіх імен.\n",
    "print(\"Пояснення: Для того, щоб вивести всі імена, достатньо звернутись до колонки 'name' масиву C.\")\n",
    "print(\"Оскільки dtype масиву містить поле 'name', можна просто використовувати вираз C['name'] для доступу до всіх імен.\")\n"
   ]
  },
  {
   "cell_type": "markdown",
   "metadata": {},
   "source": [
    "## Запис та зчитування з файлу, формат CSV"
   ]
  },
  {
   "cell_type": "code",
   "execution_count": 4,
   "metadata": {},
   "outputs": [
    {
     "name": "stdout",
     "output_type": "stream",
     "text": [
      "Вихідний масив:  [('Sofia', 5, 'KN-41') ('Maks', 4, 'KN-41') ('Noname', 0, 'KN-41')\n",
      " ('Alina', 5, 'KN-41')]\n",
      "Прочитаний з файлу:  [('Sofia', 5, 'KN-41') ('Maks', 4, 'KN-41') ('Noname', 0, 'KN-41')\n",
      " ('Alina', 5, 'KN-41')]\n",
      "Записуємо у CSV файл temp.csv значення: [('Sofia', 5, 'KN-41') ('Maks', 4, 'KN-41') ('Noname', 0, 'KN-41')\n",
      " ('Alina', 5, 'KN-41')]\n",
      "Перевіряємо чи файл temp.csv створився: [\"numbers'methods2.ipynb\", 'pictures', 'my_mass.npz', 'temp.csv', 'readme.md']\n",
      "Читаємо файл за допомогою оператора with та методу readlines\n",
      "Прочитаний файл:\n",
      " ['# name,mark,group\\n', 'Sofia,5,KN-41\\n', 'Maks,4,KN-41\\n', 'Noname,0,KN-41\\n', 'Alina,5,KN-41\\n'] \n",
      "- як бачимо - 5 елементи є стрічками <class 'str'>.\n",
      "Зчитане значення з файла:\n",
      " [('Sofia', 5, 'KN-41') ('Maks', 4, 'KN-41') ('Noname', 0, 'KN-41')\n",
      " ('Alina', 5, 'KN-41')], як бачимо - 4 елементи це <class 'numpy.void'> \n",
      "- вбудований клас бібліотеки numpy.\n",
      "\n",
      ">>>>> Доступ до імені: Sofia \n",
      "\n",
      "\n",
      ">>>>> Ім'я: Sofia, Група: KN-41 \n",
      "\n",
      "\n",
      ">>>>> Виведено значення імені та групи, яке було додано до масиву. \n",
      "\n"
     ]
    }
   ],
   "source": [
    "import numpy as np\n",
    "import os\n",
    "\n",
    "# Створення dtype з додатковим полем 'group'\n",
    "dt = np.dtype([('name', 'U20'), ('mark', np.int8), ('group', 'U10')])\n",
    "\n",
    "# Масив з ім'ям, оцінкою та групою\n",
    "arr = [\n",
    "    (\"Sofia\", 5, \"KN-41\"),  # Замінив групу на \"KN-41\"\n",
    "    (\"Maks\", 4, \"KN-41\"),\n",
    "    (\"Noname\", 0, \"KN-41\"),\n",
    "    (\"Alina\", 5, \"KN-41\")  # Додаємо ваше ім'я, оцінку та групу\n",
    "]\n",
    "\n",
    "# Створюємо масив з використанням нового dtype\n",
    "C = np.array(arr, dtype=dt)\n",
    "\n",
    "# Виводимо масив\n",
    "print(\"Вихідний масив: \", C)\n",
    "\n",
    "# Збереження в npz файл\n",
    "np.savez(\"my_mass.npz\", my_mass=C)\n",
    "\n",
    "# Завантаження масиву з файлу\n",
    "D = np.load(\"my_mass.npz\")\n",
    "print(\"Прочитаний з файлу: \", D[\"my_mass\"])\n",
    "\n",
    "# Записуємо в CSV файл\n",
    "filename = \"temp.csv\"\n",
    "print(f\"Записуємо у CSV файл {filename} значення: {C}\")\n",
    "np.savetxt(filename, C, fmt=\"%s,%d,%s\", header=\"name,mark,group\", delimiter=\",\")\n",
    "\n",
    "# Перевірка наявності файлу\n",
    "print(f\"Перевіряємо чи файл {filename} створився: {os.listdir()}\")\n",
    "\n",
    "# Читання файлу за допомогою оператора with та методу readlines\n",
    "print(\"Читаємо файл за допомогою оператора with та методу readlines\")\n",
    "with open(filename) as f:\n",
    "    D = f.readlines()\n",
    "\n",
    "print(f\"Прочитаний файл:\\n {D} \\n- як бачимо - {len(D)} елементи є стрічками {type(D[0])}.\")\n",
    "\n",
    "# Зчитуємо файл за допомогою np.genfromtxt\n",
    "D = np.genfromtxt(filename, dtype=dt, delimiter=\",\", skip_header=1)  # пропускаємо перший рядок (заголовок)\n",
    "print(f\"Зчитане значення з файла:\\n {D}, як бачимо - {D.size} елементи це {type(D[0])} \\n- вбудований клас бібліотеки numpy.\")\n",
    "\n",
    "# Доступ до певного елемента\n",
    "homework(f\"Доступ до імені: {D[0]['name']}\")  # Доступ до імені Софії\n",
    "\n",
    "# Дописуємо код для виведення імені \"Sofia\" та її групи\n",
    "sofia_info = C[C['name'] == 'Sofia']  # Знаходимо запис з ім'ям \"Sofia\"\n",
    "sofia_name_group = sofia_info['name'][0], sofia_info['group'][0]  # Отримуємо ім'я та групу\n",
    "homework(f\"Ім'я: {sofia_name_group[0]}, Група: {sofia_name_group[1]}\")  # Виводимо ім'я та групу\n",
    "\n",
    "homework(\"Виведено значення імені та групи, яке було додано до масиву.\")\n"
   ]
  },
  {
   "cell_type": "markdown",
   "metadata": {},
   "source": [
    "## Операції над масивами "
   ]
  },
  {
   "cell_type": "code",
   "execution_count": 5,
   "metadata": {},
   "outputs": [
    {
     "name": "stdout",
     "output_type": "stream",
     "text": [
      "\n",
      "Віднімання:\n",
      " [[-11. -10.  -9.]\n",
      " [-11. -10.  -9.]\n",
      " [-11. -10.  -9.]]\n",
      "Множення:\n",
      " [[0.01818432 0.88366905 0.4895086 ]\n",
      " [0.06133059 0.37373364 0.7539145 ]\n",
      " [0.64384195 0.87904022 0.96969883]]\n",
      "Ділення:\n",
      " [[       inf 0.88366905 0.2447543 ]\n",
      " [       inf 0.37373364 0.37695725]\n",
      " [       inf 0.87904022 0.48484942]]\n",
      "Степінь:\n",
      " [[1. 1. 1.]\n",
      " [1. 1. 1.]\n",
      " [1. 1. 1.]]\n",
      "Порівняння:\n",
      " [[False  True False]\n",
      " [False False  True]\n",
      " [ True  True  True]]\n",
      "Ділення на 0:\n",
      " [[inf inf inf]\n",
      " [inf inf inf]\n",
      " [inf inf inf]]\n",
      "\n",
      "\n",
      ">>>>> \n",
      "- Створіть власну матрицю за допомогою методу eye та виконайте порівняння на наявність 1.\n",
      "- Створіть матрицю ones та відніміть від неї матрицю eye (щоб у результаті вийшла матриця де центральна діагональ буде 0).\n",
      " \n",
      "\n",
      "\n",
      "Матриця eye:\n",
      "[[1. 0. 0.]\n",
      " [0. 1. 0.]\n",
      " [0. 0. 1.]]\n",
      "\n",
      "\n",
      "Порівняння на наявність 1:\n",
      "[[ True False False]\n",
      " [False  True False]\n",
      " [False False  True]]\n",
      "\n",
      "\n",
      "Результат віднімання матриці eye від ones:\n",
      "[[0. 1. 1.]\n",
      " [1. 0. 1.]\n",
      " [1. 1. 0.]]\n",
      "\n"
     ]
    },
    {
     "name": "stderr",
     "output_type": "stream",
     "text": [
      "/tmp/ipykernel_5672/3704401883.py:13: RuntimeWarning: divide by zero encountered in divide\n",
      "  Ділення:\\n {R / C}\n",
      "/tmp/ipykernel_5672/3704401883.py:16: RuntimeWarning: divide by zero encountered in divide\n",
      "  Ділення на 0:\\n {O / Z}\n"
     ]
    }
   ],
   "source": [
    "import numpy as np\n",
    "\n",
    "l = (3, 3)\n",
    "\n",
    "O = np.ones(l)\n",
    "R = np.random.random(l)\n",
    "Z = np.zeros(l)\n",
    "C = np.arange(l[0])\n",
    "\n",
    "print(f\"\"\"\n",
    "Віднімання:\\n {C - (O + 10)}\n",
    "Множення:\\n {O * R}\n",
    "Ділення:\\n {R / C}\n",
    "Степінь:\\n {C ** Z}\n",
    "Порівняння:\\n {R > 0.5}\n",
    "Ділення на 0:\\n {O / Z}\n",
    "\"\"\")\n",
    "\n",
    "homework(\"\"\"\n",
    "- Створіть власну матрицю за допомогою методу eye та виконайте порівняння на наявність 1.\n",
    "- Створіть матрицю ones та відніміть від неї матрицю eye (щоб у результаті вийшла матриця де центральна діагональ буде 0).\n",
    "\"\"\")\n",
    "\n",
    "# Створення матриці одиничної матриці (eye) та перевірка на наявність одиничних елементів\n",
    "E = np.eye(3)\n",
    "print(f\"\"\"\n",
    "Матриця eye:\\n{E}\n",
    "\"\"\")\n",
    "print(f\"\"\"\n",
    "Порівняння на наявність 1:\\n{E == 1}\n",
    "\"\"\")\n",
    "\n",
    "# Створення матриці одиничних чисел (ones) та віднімання від неї матриці eye\n",
    "ones_matrix = np.ones(l)\n",
    "result = ones_matrix - E\n",
    "print(f\"\"\"\n",
    "Результат віднімання матриці eye від ones:\\n{result}\n",
    "\"\"\")\n"
   ]
  },
  {
   "cell_type": "markdown",
   "metadata": {},
   "source": [
    "## Конкатенація, повторення та зміна форми (shape)"
   ]
  },
  {
   "cell_type": "code",
   "execution_count": 6,
   "metadata": {},
   "outputs": [
    {
     "name": "stdout",
     "output_type": "stream",
     "text": [
      "Масив A:\n",
      "[[0 1 2]\n",
      " [3 4 5]]\n",
      "Масив B:\n",
      "[[ 6  7  8]\n",
      " [ 9 10 11]]\n",
      "Конкатенація по рядках:\n",
      "[[ 0  1  2]\n",
      " [ 3  4  5]\n",
      " [ 6  7  8]\n",
      " [ 9 10 11]]\n",
      "Конкатенація по стовпцях:\n",
      "[[ 0  1  2  6  7  8]\n",
      " [ 3  4  5  9 10 11]]\n",
      "Повторення масиву A (2 рази по рядках і 3 рази по стовпцях):\n",
      "[[0 1 2 0 1 2 0 1 2]\n",
      " [3 4 5 3 4 5 3 4 5]\n",
      " [0 1 2 0 1 2 0 1 2]\n",
      " [3 4 5 3 4 5 3 4 5]]\n",
      "Масив C:\n",
      "[[ 0  1  2  3]\n",
      " [ 4  5  6  7]\n",
      " [ 8  9 10 11]]\n",
      "Масив D (1D):\n",
      "[0 1 2]\n",
      "Масив D після reshape (3,1):\n",
      "[[0]\n",
      " [1]\n",
      " [2]]\n",
      "Конкатенація C та D по стовпцях:\n",
      "[[ 0  1  2  3  0]\n",
      " [ 4  5  6  7  1]\n",
      " [ 8  9 10 11  2]]\n",
      "Масив E (1, 12):\n",
      "[[ 0  1  2  3  4  5  6  7  8  9 10 11]]\n",
      "Масив F (3, 4):\n",
      "[[ 0  1  2  3]\n",
      " [ 4  5  6  7]\n",
      " [ 8  9 10 11]]\n",
      "Масив G (4, 3):\n",
      "[[ 0  1  2]\n",
      " [ 3  4  5]\n",
      " [ 6  7  8]\n",
      " [ 9 10 11]]\n",
      "Масив H (2, 6):\n",
      "[[ 0  1  2  3  4  5]\n",
      " [ 6  7  8  9 10 11]]\n"
     ]
    }
   ],
   "source": [
    "import numpy as np\n",
    "\n",
    "# 1. Створення двовимірного масиву за допомогою arange та виконання конкатенації та повторення\n",
    "A = np.arange(6).reshape(2, 3)  # Масив 2x3\n",
    "B = np.arange(6, 12).reshape(2, 3)  # Масив 2x3\n",
    "\n",
    "print(f\"Масив A:\\n{A}\")\n",
    "print(f\"Масив B:\\n{B}\")\n",
    "\n",
    "# Конкатенація по рядках (axis=0)\n",
    "concatenated_rows = np.concatenate((A, B), axis=0)\n",
    "print(f\"Конкатенація по рядках:\\n{concatenated_rows}\")\n",
    "\n",
    "# Конкатенація по стовпцях (axis=1)\n",
    "concatenated_columns = np.concatenate((A, B), axis=1)\n",
    "print(f\"Конкатенація по стовпцях:\\n{concatenated_columns}\")\n",
    "\n",
    "# Повторення масиву A 2 рази по рядках і 3 рази по стовпцях\n",
    "tiled = np.tile(A, (2, 3))\n",
    "print(f\"Повторення масиву A (2 рази по рядках і 3 рази по стовпцях):\\n{tiled}\")\n",
    "\n",
    "# 2. Створення масиву з різною кількістю рядків та стовпців та конкатенація\n",
    "C = np.arange(12).reshape(3, 4)  # Масив 3x4\n",
    "print(f\"Масив C:\\n{C}\")\n",
    "\n",
    "# Зміна розміру масиву D на (3,1) і конкатенація з C по стовпцях\n",
    "D = np.arange(3)  # Масив з розмірністю (3,)\n",
    "print(f\"Масив D (1D):\\n{D}\")\n",
    "D_reshaped = D[:, np.newaxis]  # Перетворюємо D в (3,1)\n",
    "print(f\"Масив D після reshape (3,1):\\n{D_reshaped}\")\n",
    "\n",
    "# Конкатенація C та D після reshape\n",
    "concatenated_C_D = np.concatenate((C, D_reshaped), axis=1)\n",
    "print(f\"Конкатенація C та D по стовпцях:\\n{concatenated_C_D}\")\n",
    "\n",
    "# 3. Створення кількох двовимірних масивів із сумарною розмірністю 12 та всі можливі комбінції reshape\n",
    "E = np.arange(12).reshape(1, 12)  # Перша комбінація (1,12)\n",
    "F = np.arange(12).reshape(3, 4)  # Друга комбінація (3,4)\n",
    "G = np.arange(12).reshape(4, 3)  # Третя комбінація (4,3)\n",
    "H = np.arange(12).reshape(2, 6)  # Четверта комбінація (2,6)\n",
    "\n",
    "print(f\"Масив E (1, 12):\\n{E}\")\n",
    "print(f\"Масив F (3, 4):\\n{F}\")\n",
    "print(f\"Масив G (4, 3):\\n{G}\")\n",
    "print(f\"Масив H (2, 6):\\n{H}\")\n"
   ]
  },
  {
   "cell_type": "markdown",
   "metadata": {},
   "source": [
    "## Трансформації масивів"
   ]
  },
  {
   "cell_type": "code",
   "execution_count": 7,
   "metadata": {},
   "outputs": [
    {
     "name": "stdout",
     "output_type": "stream",
     "text": [
      "1. Вектор з 12 елементів:\n",
      "[ 0  1  2  3  4  5  6  7  8  9 10 11]\n",
      "   shape: (12,), size: 12, ndim: 1\n",
      "\n",
      "2. Матриця 3x4:\n",
      "[[ 0  1  2  3]\n",
      " [ 4  5  6  7]\n",
      " [ 8  9 10 11]]\n",
      "   shape: (3, 4), size: 12, ndim: 2\n",
      "\n",
      "3. Транспонована матриця:\n",
      "[[ 0  4  8]\n",
      " [ 1  5  9]\n",
      " [ 2  6 10]\n",
      " [ 3  7 11]]\n",
      "   shape: (4, 3), size: 12, ndim: 2\n",
      "\n",
      "4. Обернена матриця:\n",
      "[[11  7  3]\n",
      " [10  6  2]\n",
      " [ 9  5  1]\n",
      " [ 8  4  0]]\n",
      "   shape: (4, 3), size: 12, ndim: 2\n",
      "\n",
      "5. Перетворений багатовимірний масив у вектор:\n",
      "[11  7  3 10  6  2  9  5  1  8  4  0]\n",
      "   shape: (12,), size: 12, ndim: 1\n",
      "\n"
     ]
    }
   ],
   "source": [
    "import numpy as np\n",
    "\n",
    "# 1. Створення вектора з 12 елементів\n",
    "vector = np.arange(12)\n",
    "print(f\"1. Вектор з 12 елементів:\\n{vector}\")\n",
    "print(f\"   shape: {vector.shape}, size: {vector.size}, ndim: {vector.ndim}\\n\")\n",
    "\n",
    "# 2. Зміна розмірності вектора у матрицю 3x4\n",
    "matrix = vector.reshape(3, 4)\n",
    "print(f\"2. Матриця 3x4:\\n{matrix}\")\n",
    "print(f\"   shape: {matrix.shape}, size: {matrix.size}, ndim: {matrix.ndim}\\n\")\n",
    "\n",
    "# 3. Транспонування матриці\n",
    "transposed_matrix = matrix.T\n",
    "print(f\"3. Транспонована матриця:\\n{transposed_matrix}\")\n",
    "print(f\"   shape: {transposed_matrix.shape}, size: {transposed_matrix.size}, ndim: {transposed_matrix.ndim}\\n\")\n",
    "\n",
    "# 4. Обертання матриці\n",
    "flipped_matrix = np.flip(transposed_matrix)\n",
    "print(f\"4. Обернена матриця:\\n{flipped_matrix}\")\n",
    "print(f\"   shape: {flipped_matrix.shape}, size: {flipped_matrix.size}, ndim: {flipped_matrix.ndim}\\n\")\n",
    "\n",
    "# 5. Перетворення багатовимірного масиву вектор\n",
    "flattened = flipped_matrix.flatten()\n",
    "print(f\"5. Перетворений багатовимірний масив у вектор:\\n{flattened}\")\n",
    "print(f\"   shape: {flattened.shape}, size: {flattened.size}, ndim: {flattened.ndim}\\n\")\n"
   ]
  },
  {
   "cell_type": "markdown",
   "metadata": {},
   "source": [
    "#### 7 завдання"
   ]
  },
  {
   "cell_type": "markdown",
   "metadata": {},
   "source": [
    "1. Метод arange\n",
    "- :question: Метод arange генерує числову послідовність на основі початкового значення, кінцевого значення та кроку\n",
    "> Формула для цього виглядає так: a(n)=a(0)+n*d\n",
    "- :question: Формула вказує, що наступний елемент послідовності генерується шляхом додавання кроку до попереднього елемента.\n",
    "**### Приклад**:"
   ]
  },
  {
   "cell_type": "code",
   "execution_count": 8,
   "metadata": {},
   "outputs": [
    {
     "name": "stdout",
     "output_type": "stream",
     "text": [
      "[1 3 5 7 9]\n"
     ]
    }
   ],
   "source": [
    "import numpy as np\n",
    "a = np.arange(1, 10, 2)\n",
    "print(a)"
   ]
  },
  {
   "cell_type": "markdown",
   "metadata": {},
   "source": [
    "2. Метод linspace\n",
    "- :question: Метод linspace генерує числову послідовність, вказуючи початкове та кінцеве значення, а також кількість елементів. Він автоматично обчислює крок для рівномірного розподілу елементів між початком і кінцем. \n",
    "> Формула для цього виглядає так: a(n)=(a(0)+a(T)-a(0)/N-1)*n; де - a(0)— початкове значення, 𝑎(Т)— кінцеве значення, N— кількість елементів, n — індекс елемента (від 0 до N−1).\n",
    "- :question: Формула вказує, що крок обчислюється так, щоб числа рівномірно заповнили весь діапазон від a(0) до а(Т)\n",
    "\n",
    "### **Приклад**"
   ]
  },
  {
   "cell_type": "code",
   "execution_count": 9,
   "metadata": {},
   "outputs": [
    {
     "name": "stdout",
     "output_type": "stream",
     "text": [
      "[ 1.    3.25  5.5   7.75 10.  ]\n"
     ]
    }
   ],
   "source": [
    "import numpy as np\n",
    "b = np.linspace(1, 10, 5)\n",
    "print(b)"
   ]
  },
  {
   "cell_type": "markdown",
   "metadata": {},
   "source": [
    "## Порівняння формул і випадків використання\n",
    "\n",
    "> Формули:\n",
    "> - У `arange` крок 𝑑 є постійним, а ми визначаємо тільки початкове значення та кінцеве значення (яке може не бути включене в результат).\n",
    "> - У `linspace` кількість елементів N є постійною, і крок обчислюється таким чином, щоб рівномірно розподілити значення від початку до кінця.\n",
    "> Коли використовувати які методи:\n",
    "> - `arange` застосовується, коли вам потрібно працювати з конкретним кроком (різницею між елементами). Це корисно, коли ви хочете, щоб послідовність мала певну інтервалу (наприклад, у часових серіях або у фізичних розрахунках).\n",
    "> - - **Приклад**: крок 0.5 між значеннями, або інтервал між чисел певного типу.\n",
    "> - `linspace` застосовується, коли вам потрібно рівномірно розподілити задану кількість точок між двома значеннями, і важливо точно визначити кількість елементів у послідовності.\n",
    "> - - **Приклад**: для графіків, де потрібно рівномірно розподілити точки на осі або при чисельних методах, де кількість точок має бути заданою наперед.\n",
    "##### Висновок:\n",
    "> - `arange `підходить для генерації послідовностей з конкретним кроком, коли вам важливо контролювати інтервал між елементами.\n",
    "> - `linspace` підходить для ситуацій, коли потрібно рівномірно розподілити задану кількість елементів між початковим і кінцевим значенням, гарантуючи, що всі значення будуть рівномірно розподілені.\n",
    "Ці методи використовуються в залежності від задачі: `arange` зручний для послідовностей з фіксованим кроком, а `linspace` — для рівномірного розподілу значень на заданому інтервалі.\n",
    "\n",
    "\n",
    "### Створюю декілька простих Векторів та Матриць та виведжу їх розмірність. Виконую арифметичні операції над створеними Векторам/Матрицями;\n",
    "\n",
    "**1. Створення простих векторів та матриць**"
   ]
  },
  {
   "cell_type": "code",
   "execution_count": 10,
   "metadata": {},
   "outputs": [
    {
     "name": "stdout",
     "output_type": "stream",
     "text": [
      "Розмірність вектора-рядка: (5,)\n",
      "Розмірність вектора-стовпця: (5, 1)\n",
      "Розмірність матриці 2x3: (2, 3)\n",
      "Розмірність матриці 3x3: (3, 3)\n"
     ]
    }
   ],
   "source": [
    "import numpy as np\n",
    "\n",
    "# Створюю вектор-рядок та вектор-стовпець\n",
    "vector_row = np.array([1, 2, 3, 4, 5])\n",
    "vector_column = np.array([[1], [2], [3], [4], [5]])\n",
    "\n",
    "# Створюю матрицю 2x3\n",
    "matrix_2x3 = np.array([[1, 2, 3], [4, 5, 6]])\n",
    "\n",
    "# Створюю матрицю 3x3\n",
    "matrix_3x3 = np.array([[7, 8, 9], [10, 11, 12], [13, 14, 15]])\n",
    "\n",
    "# Виводжу розмірність\n",
    "print(\"Розмірність вектора-рядка:\", vector_row.shape)\n",
    "print(\"Розмірність вектора-стовпця:\", vector_column.shape)\n",
    "print(\"Розмірність матриці 2x3:\", matrix_2x3.shape)\n",
    "print(\"Розмірність матриці 3x3:\", matrix_3x3.shape)"
   ]
  },
  {
   "cell_type": "markdown",
   "metadata": {},
   "source": [
    "**2. Арифметичні операції над векторами та матрицями**\n",
    "> Операції з векторами"
   ]
  },
  {
   "cell_type": "code",
   "execution_count": 11,
   "metadata": {},
   "outputs": [
    {
     "name": "stdout",
     "output_type": "stream",
     "text": [
      "\n",
      "Додавання векторів:\n",
      " [2 3 4 5 6]\n",
      "\n",
      "Множення вектора на скаляр:\n",
      " [ 2  4  6  8 10]\n",
      "\n",
      "Віднімання векторів:\n",
      " [1 1 1 1 1]\n"
     ]
    }
   ],
   "source": [
    "# Додавання векторів\n",
    "vector_add = vector_row + np.array([1, 1, 1, 1, 1])\n",
    "print(\"\\nДодавання векторів:\\n\", vector_add)\n",
    "\n",
    "# Множення вектора на скаляр\n",
    "vector_multiply = vector_row * 2\n",
    "print(\"\\nМноження вектора на скаляр:\\n\", vector_multiply)\n",
    "\n",
    "# Віднімання векторів\n",
    "vector_subtract = vector_row - np.array([0, 1, 2, 3, 4])\n",
    "print(\"\\nВіднімання векторів:\\n\", vector_subtract)"
   ]
  },
  {
   "cell_type": "markdown",
   "metadata": {},
   "source": [
    "> Операції з матрицями"
   ]
  },
  {
   "cell_type": "code",
   "execution_count": 12,
   "metadata": {},
   "outputs": [
    {
     "name": "stdout",
     "output_type": "stream",
     "text": [
      "\n",
      "Додавання матриць:\n",
      " [[ 8  9 10]\n",
      " [11 12 13]\n",
      " [14 15 16]]\n",
      "\n",
      "Множення матриці на скаляр:\n",
      " [[21 24 27]\n",
      " [30 33 36]\n",
      " [39 42 45]]\n",
      "\n",
      "Транспонування матриці:\n",
      " [[ 7 10 13]\n",
      " [ 8 11 14]\n",
      " [ 9 12 15]]\n"
     ]
    }
   ],
   "source": [
    "# Додавання матриць\n",
    "matrix_add = matrix_3x3 + np.array([[1, 1, 1], [1, 1, 1], [1, 1, 1]])\n",
    "print(\"\\nДодавання матриць:\\n\", matrix_add)\n",
    "\n",
    "# Множення матриці на скаляр\n",
    "matrix_multiply = matrix_3x3 * 3\n",
    "print(\"\\nМноження матриці на скаляр:\\n\", matrix_multiply)\n",
    "\n",
    "# Транспонування матриці\n",
    "matrix_transpose = matrix_3x3.T\n",
    "print(\"\\nТранспонування матриці:\\n\", matrix_transpose)"
   ]
  },
  {
   "cell_type": "markdown",
   "metadata": {},
   "source": [
    "---\n",
    "\n",
    "### Висновок:\n",
    "\n",
    "> відповідаю на запитання:\n",
    "\n",
    "- :question: Що зроблено в роботі;\n",
    "  > Практичне застосування чисельних даних\n",
    "- :question: Чи досягнуто мети роботи;\n",
    "  > я, думаю, досягнуто\n",
    "- :question: Які нові знання отримано;\n",
    "  > Трансформації масивів, конкатенація, повторення та зміна форми (shape), \n",
    "- :question: Чи вдалось відповісти на всі питання задані в ході роботи;\n",
    "  > наче, так\n",
    "- :question: Чи вдалося виконати всі завдання;\n",
    "  > якшо я нічого не пропустила-то так)\n",
    "- :question: Чи виникли складності у виконанні завдання;\n",
    "  > навіть якшо були, то вже немає, після чорної полоси завжди буле біла :point_up_2:\n",
    "- :question: Чи подобається такий формат здачі роботи (Feedback);\n",
    "  > Дуже, прикольний вигляд має та неорлинарний, відчуваю себе надпрограмістом :joy:\n",
    "- :question: Побажання для покращення (Suggestions);\n",
    "  > поки що все подобається)\n",
    "\n",
    "---\n"
   ]
  },
  {
   "cell_type": "markdown",
   "metadata": {},
   "source": [
    "# Графік"
   ]
  },
  {
   "cell_type": "code",
   "execution_count": 1,
   "metadata": {},
   "outputs": [
    {
     "name": "stdout",
     "output_type": "stream",
     "text": [
      "1.57 0.9999990487958055\n"
     ]
    },
    {
     "data": {
      "image/png": "[encoded data removed]",
      "text/plain": [
       "<Figure size 1000x500 with 1 Axes>"
      ]
     },
     "metadata": {},
     "output_type": "display_data"
    }
   ],
   "source": [
    "import numpy as np\n",
    "import matplotlib.pyplot as plt\n",
    "\n",
    "# Генеруємо значення x від 0 до 4π з кроком 0.01\n",
    "x = np.arange(0, 4 * np.pi, 0.01)\n",
    "# Обираємо функцію: синус\n",
    "y = np.sin(x)**2 * np.cos(x-0.5*np.pi)\n",
    "\n",
    "# Знаходимо максимальне та мінімальне значення функції\n",
    "y_max = y.max()\n",
    "y_min = y.min()\n",
    "\n",
    "# Знаходимо відповідні значення x для мінімуму та максимуму\n",
    "x_max = x[y.argmax()]\n",
    "x_min = x[y.argmin()]\n",
    "print(x_max, y_max)\n",
    "\n",
    "# Створюємо графік\n",
    "plt.figure(figsize=(10, 5))\n",
    "plt.plot(x, y, label=\"sin(x)\", color=\"blue\")\n",
    "\n",
    "# Додаємо точки максимуму і мінімуму та прямі лінії\n",
    "plt.plot(x_max, y_max, 'ro', label=\"Max\")\n",
    "plt.plot(x_min, y_min, 'go', label=\"Min\")\n",
    "plt.axhline(y=y_max, color='red', linestyle='dotted', linewidth=0.8)\n",
    "plt.axhline(y=y_min, color='green', linestyle=\"--\", linewidth=0.8)\n",
    "plt.axvline(x=x_max, color='red', linestyle='dashdot', linewidth=0.8)\n",
    "plt.axvline(x=x_min, color='green', linestyle=\"--\", linewidth=0.8)\n",
    "\n",
    "# Налаштовуємо підписи до осей та заголовок графіка\n",
    "plt.xlabel(\"x\")\n",
    "plt.ylabel(\"sin(x)\")\n",
    "plt.title(\"Графік функції sin(x) з максимальними та мінімальними точками\")\n",
    "plt.legend()\n",
    "\n",
    "# Відображаємо графік\n",
    "plt.grid(True)\n",
    "plt.show()"
   ]
  }
 ],
 "metadata": {
  "kernelspec": {
   "display_name": "Python 3",
   "language": "python",
   "name": "python3"
  },
  "language_info": {
   "codemirror_mode": {
    "name": "ipython",
    "version": 3
   },
   "file_extension": ".py",
   "mimetype": "text/x-python",
   "name": "python",
   "nbconvert_exporter": "python",
   "pygments_lexer": "ipython3",
   "version": "3.12.1"
  },
  "orig_nbformat": 4
 },
 "nbformat": 4,
 "nbformat_minor": 2
}
